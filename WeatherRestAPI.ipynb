{
  "nbformat": 4,
  "nbformat_minor": 0,
  "metadata": {
    "colab": {
      "name": "WeatherRestAPI.ipynb",
      "provenance": []
    },
    "kernelspec": {
      "name": "python3",
      "display_name": "Python 3"
    }
  },
  "cells": [
    {
      "cell_type": "code",
      "metadata": {
        "id": "dbJ-0r-S2dRG"
      },
      "source": [
        "import requests\r\n",
        "url = \"https://www.metaweather.com/api/location/search/?query=bangalore\"\r\n",
        "response = requests.get(url)"
      ],
      "execution_count": 17,
      "outputs": []
    },
    {
      "cell_type": "code",
      "metadata": {
        "id": "wIASlBhw2roZ"
      },
      "source": [
        "[weather_response] = response.json()\r\n",
        "woeid_value = weather_response[\"woeid\"]"
      ],
      "execution_count": 18,
      "outputs": []
    },
    {
      "cell_type": "code",
      "metadata": {
        "colab": {
          "base_uri": "https://localhost:8080/"
        },
        "id": "Bj_GjbZQ28wV",
        "outputId": "00bf4176-12d7-4bd1-c321-586d711c0a32"
      },
      "source": [
        "woeid_url = \"https://www.metaweather.com/api/location/\" + str(woeid_value) + \"/\"\r\n",
        "woeid_response = requests.get(woeid_url).json()\r\n",
        "weather_for_the_day = woeid_response[\"consolidated_weather\"][0][\"weather_state_name\"]\r\n",
        "print(weather_for_the_day)"
      ],
      "execution_count": 19,
      "outputs": [
        {
          "output_type": "stream",
          "text": [
            "Light Cloud\n"
          ],
          "name": "stdout"
        }
      ]
    },
    {
      "cell_type": "code",
      "metadata": {
        "colab": {
          "base_uri": "https://localhost:8080/"
        },
        "id": "VcLaMiil2_jc",
        "outputId": "0421fd35-1c0a-4461-e253-563a921b2800"
      },
      "source": [
        "import os\r\n",
        "from datetime import datetime\r\n",
        "user_id = \"7ee42fbaaebd27021ed55a3bafd17498\"\r\n",
        "location = input(\"Enter the city name: \")\r\n",
        "#posted from website :   api.openweathermap.org/data/2.5/weather?q={city name}&appid={your api key}\r\n",
        "complete_api_link = \"https://api.openweathermap.org/data/2.5/weather?q=\"+location+\"&appid=\"+user_id\r\n",
        "api_link = requests.get(complete_api_link)\r\n",
        "api_data = api_link.json()\r\n",
        "print(api_data)\r\n",
        "if api_data['cod'] == '404':\r\n",
        "   print (\"Invalid city: {}, Please check your city name\".format(location))\r\n",
        "else:\r\n",
        "    temp_city = ((api_data['main']['temp'])-273.15)\r\n",
        "    weather_desc = api_data['weather'][0]['description']\r\n",
        "    hmdt = api_data['main']['humidity']\r\n",
        "    date_time = datetime.now().strftime(\"%d %b %Y | %I:%M:%S %p\")\r\n",
        "    print(\"weather states for - {} || {}\".format(location.upper(),date_time))\r\n",
        "    print(\"Current temp is: {:.2f} deg C\".format(temp_city))\r\n",
        "    print(\"Current humidity     :\",hmdt)\r\n",
        "    print(\"Current weather desc :\",weather_desc)\r\n",
        "    print(\"Current time         :\",date_time)"
      ],
      "execution_count": 20,
      "outputs": [
        {
          "output_type": "stream",
          "text": [
            "Enter the city name: Bangalore\n",
            "{'coord': {'lon': 77.6033, 'lat': 12.9762}, 'weather': [{'id': 741, 'main': 'Fog', 'description': 'fog', 'icon': '50d'}], 'base': 'stations', 'main': {'temp': 291.32, 'feels_like': 293.11, 'temp_min': 290.15, 'temp_max': 292.15, 'pressure': 1014, 'humidity': 100}, 'visibility': 1000, 'wind': {'speed': 1.54, 'deg': 90}, 'clouds': {'all': 75}, 'dt': 1610762104, 'sys': {'type': 1, 'id': 9205, 'country': 'IN', 'sunrise': 1610759740, 'sunset': 1610800951}, 'timezone': 19800, 'id': 1277333, 'name': 'Bengaluru', 'cod': 200}\n",
            "weather states for - BANGALORE || 16 Jan 2021 | 01:55:29 AM\n",
            "Current temp is: 18.17 deg C\n",
            "Current humidity     : 100\n",
            "Current weather desc : fog\n",
            "Current time         : 16 Jan 2021 | 01:55:29 AM\n"
          ],
          "name": "stdout"
        }
      ]
    },
    {
      "cell_type": "code",
      "metadata": {
        "id": "EaSpb8JP5Mfw"
      },
      "source": [
        ""
      ],
      "execution_count": 20,
      "outputs": []
    }
  ]
}